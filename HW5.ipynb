{
 "cells": [
  {
   "cell_type": "markdown",
   "metadata": {},
   "source": [
    "#### CSCI-UA.0473-​001 Introduction to Machine Learning\n",
    "\n",
    "# Homework 5\n",
    "\n",
    "\n",
    "### Name: Bozhou Yan\n",
    "\n",
    "\n",
    "### Due: Nov. 27, 2019\n",
    "\n",
    "\n",
    "## Goal:  The goal of this homework is to practice implementing PCA and NMF in Sci-kit learn."
   ]
  },
  {
   "cell_type": "code",
   "execution_count": 1,
   "metadata": {},
   "outputs": [],
   "source": [
    "import numpy as np\n",
    "import matplotlib.pyplot as plt\n",
    "%matplotlib inline\n",
    "\n",
    "from sklearn import datasets\n",
    "from sklearn.feature_extraction.text import TfidfVectorizer, CountVectorizer\n",
    "\n",
    "from sklearn.decomposition import PCA, NMF"
   ]
  },
  {
   "cell_type": "markdown",
   "metadata": {},
   "source": [
    "## 0. Getting Data\n",
    "\n",
    "**For this part there is nothing to implement**\n",
    "\n",
    "However, please review the documentation for [TfidfVectorizer](https://scikit-learn.org/stable/modules/generated/sklearn.feature_extraction.text.TfidfVectorizer.html) and [CountVectorizer](https://scikit-learn.org/stable/modules/generated/sklearn.feature_extraction.text.CountVectorizer.html) to see what these functions do.  Here is more information on the [dataset](https://scikit-learn.org/0.19/datasets/twenty_newsgroups.html).\n",
    "\n",
    "\n",
    "Recall that for dimensionality reduction we form the matrix\n",
    "$$\n",
    "{\\bf X} = [{\\bf x}_1; {\\bf x}_2; \\ldots; {\\bf x}_N] \\in \\mathbb{R}^{d\\times N}\n",
    "$$\n",
    "where ${\\bf x}_i \\in \\mathbb{R}^d$ is the dimension of the data and $N$ is the number of training points.  We want to find a **dictionary** matrix ${\\bf W}$ and a **code** matrix ${\\bf Z}$ such that ${\\bf X} \\approx {\\bf WZ}$.  Dimensionality reduction comes in when we select ${\\bf W} \\in \\mathbb{R}^{d \\times q}$ and ${\\bf Z} \\in \\mathbb{R}^{q\\times N}$ with $q \\ll d$."
   ]
  },
  {
   "cell_type": "code",
   "execution_count": 5,
   "metadata": {},
   "outputs": [
    {
     "name": "stdout",
     "output_type": "stream",
     "text": [
      "X has shape (d, N) =  (1771, 2369)\n"
     ]
    }
   ],
   "source": [
    "# Load in the data.\n",
    "newsgroups_train = datasets.fetch_20newsgroups(subset='train', \n",
    "                                               categories=['comp.sys.mac.hardware', 'rec.motorcycles', 'sci.med', 'soc.religion.christian'])\n",
    "\n",
    "tfidf_vectorizer = TfidfVectorizer(min_df = 30)\n",
    "\n",
    "# The data matrix X and the targets y.\n",
    "X = (tfidf_vectorizer.fit_transform(newsgroups_train.data).T).todense()\n",
    "y = newsgroups_train.target\n",
    "\n",
    "(d, N) = X.shape\n",
    "print(\"X has shape (d, N) = \", X.shape)\n",
    "\n",
    "# The reduced dimension.\n",
    "q = 5"
   ]
  },
  {
   "cell_type": "markdown",
   "metadata": {},
   "source": [
    "The data has dimension $d = 1771$.  We will reduce this to dimension $q = 5$."
   ]
  },
  {
   "cell_type": "markdown",
   "metadata": {},
   "source": [
    "## 1. Training with PCA\n",
    "\n",
    "### Part (a)\n",
    "Using the PCA implemented in Sci-Kit learn, obtain the low-dimensional projection of ${\\bf X}$ (i.e. get ${\\bf W}$ and ${\\bf Z}$) for when $q = 5$.  Read the documentation [here](https://scikit-learn.org/stable/modules/generated/sklearn.decomposition.PCA.html) carefully.  In particular, make sure you are computing the correct ${\\bf W}$ and ${\\bf Z}$."
   ]
  },
  {
   "cell_type": "code",
   "execution_count": 36,
   "metadata": {},
   "outputs": [
    {
     "name": "stdout",
     "output_type": "stream",
     "text": [
      "W has shape  (1771, 5)\n",
      "Z has shape  (5, 2369)\n"
     ]
    }
   ],
   "source": [
    "## TO DO STARTS HERE ##\n",
    "X_t=X.T\n",
    "pca=PCA(n_components=5)\n",
    "Z=pca.fit_transform(X_t).T\n",
    "\n",
    "W=pca.components_.T\n",
    "\n",
    "\n",
    "## TO DO ENDS HERE ##\n",
    "\n",
    "print(\"W has shape \", W.shape)\n",
    "print(\"Z has shape \", Z.shape)"
   ]
  },
  {
   "cell_type": "markdown",
   "metadata": {},
   "source": [
    "### Part (b)\n",
    "\n",
    "The matrix ${\\bf Z} = [{\\bf z}_1,\\ldots,{\\bf z}_N]$ is the matrix of the reduced data.  Make a scatter plot of the data projected onto its first two principal components.  In other words, form a scatter plot of all the ${\\bf z}_i$ with the first component as the $x$-axis and the second component as the $y$-axis.  Set the color bar so that the points are colored corresponding to their target label ${\\bf y}$ (which was defined earlier in the code)."
   ]
  },
  {
   "cell_type": "code",
   "execution_count": 37,
   "metadata": {},
   "outputs": [
    {
     "data": {
      "image/png": "[encoded data removed]",
      "text/plain": [
       "<Figure size 432x288 with 1 Axes>"
      ]
     },
     "metadata": {
      "needs_background": "light"
     },
     "output_type": "display_data"
    },
    {
     "name": "stdout",
     "output_type": "stream",
     "text": [
      "COMPONENT 1\n",
      "not we in god is and to that of the\n",
      "\n",
      "COMPONENT 2\n",
      "n3jxp chastity shameful cadre dsl cs gordon banks geb pitt\n",
      "\n",
      "COMPONENT 3\n",
      "not hell christians faith that his jesus he we god\n",
      "\n",
      "COMPONENT 4\n",
      "uga georgia apple god ai university of mac edu the\n",
      "\n",
      "COMPONENT 5\n",
      "his god dod sun in he of was the com\n",
      "\n"
     ]
    }
   ],
   "source": [
    "## TO DO STARTS HERE ##\n",
    "\n",
    "z_x0=[]\n",
    "z_x1=[]\n",
    "z_x2=[]\n",
    "z_x3=[]\n",
    "z_y0=[]\n",
    "z_y1=[]\n",
    "z_y2=[]\n",
    "z_y3=[]\n",
    "Z_t=np.asarray(Z.T)\n",
    "\n",
    "for i in range(0,N):\n",
    "    if y[i]==0:\n",
    "        z_x0=np.insert(z_x0,len(z_x0),Z_t[i][0])\n",
    "        z_y0=np.insert(z_y0,len(z_y0),Z_t[i][1])\n",
    "    elif y[i]==1:\n",
    "        z_x1=np.insert(z_x1,len(z_x1),Z_t[i][0])\n",
    "        z_y1=np.insert(z_y1,len(z_y1),Z_t[i][1])\n",
    "    elif y[i]==2:\n",
    "        z_x2=np.insert(z_x2,len(z_x2),Z_t[i][0])\n",
    "        z_y2=np.insert(z_y2,len(z_y2),Z_t[i][1])\n",
    "    elif y[i]==3:\n",
    "        z_x3=np.insert(z_x3,len(z_x3),Z_t[i][0])\n",
    "        z_y3=np.insert(z_y3,len(z_y3),Z_t[i][1])\n",
    "plt.scatter(z_x0,z_y0,c='r',label='0')\n",
    "plt.scatter(z_x1,z_y1,c='b',label='1')\n",
    "plt.scatter(z_x2,z_y2,c='g',label='2')\n",
    "plt.scatter(z_x3,z_y3,c='y',label='3')\n",
    "\n",
    "plt.xlabel('first component')\n",
    "plt.ylabel('second component')\n",
    "plt.title('PCA')\n",
    "plt.legend()\n",
    "plt.show()\n",
    "\n",
    "## TO DO ENDS HERE ##\n",
    "\n",
    "# Also print out the first q components.  There is nothing to do for this part.\n",
    "loadings = W.T\n",
    "invocab = dict([(vv,kk) for kk, vv in tfidf_vectorizer.vocabulary_.items()])\n",
    "\n",
    "for i in range(q):\n",
    "    insens_idx = np.argsort(loadings[i])\n",
    "\n",
    "    print ('COMPONENT ' + str(i + 1))\n",
    "    print (' '.join([invocab[w_ix] for w_ix in insens_idx[-10:]]) + '\\n')"
   ]
  },
  {
   "cell_type": "markdown",
   "metadata": {},
   "source": [
    "### Part (c)\n",
    "\n",
    "Recall that for PCA the dictionary and code matrices ${\\bf W},{\\bf Z}$ can be found using either an eigenvalue decomposition or the SVD.  Suppose the matrix ${\\bf X}$ is centered so that \n",
    "$$\n",
    "\\frac{1}{N}\\sum_{i = 1}^N {\\bf x}_i = \\vec{0} \\in \\mathbb{R}^d\n",
    "$$\n",
    "The covariance matrix is defined to be ${\\bf C} = {\\bf XX}^T$.  The eigen-decomposition of ${\\bf C} = {\\bf W\\Sigma W}^T$ gives the matrices ${\\bf W}$ and ${\\bf Z} = {\\bf \\Sigma W}^T$.  Here\n",
    "$$\n",
    "{\\bf \\Sigma} = \\begin{bmatrix}\n",
    "\\sigma_1^2 & & \\\\\n",
    " & \\ddots & \\\\\n",
    " & & \\sigma_d^2\n",
    "\\end{bmatrix}\n",
    "$$\n",
    "is the diagonal matrix with eigenvalues $\\sigma_i^2$.  The proportion of explained variance by our low-dimensional projection is defined to be\n",
    "$$\n",
    "\\mathrm{PV}(q) := \\frac{\\sum_{i=1}^q \\sigma_i^2}{\\sum_{i=1}^d \\sigma_i^2}\n",
    "$$\n",
    "Make a plot of $\\mathrm{PV}(q)$ versus $q$ for $q = 1,\\ldots,1000$.  For this you do not need to implement the procedure above on your own, but can instead use the Sci-kit learn PCA.  In particular, look at the `explained_variance_ratio_` attribute.  Make sure that your plot is clear with a title and labeled axes."
   ]
  },
  {
   "cell_type": "code",
   "execution_count": 13,
   "metadata": {},
   "outputs": [
    {
     "data": {
      "image/png": "[encoded data removed]",
      "text/plain": [
       "<Figure size 432x288 with 1 Axes>"
      ]
     },
     "metadata": {
      "needs_background": "light"
     },
     "output_type": "display_data"
    }
   ],
   "source": [
    "## TO DO STARTS HERE ##\n",
    "pv=np.ndarray(shape=(1000,))\n",
    "eigenvalue_sum=sum(pca_new.explained_variance_)\n",
    "pca_new=PCA()\n",
    "pca_new.fit(X_t)\n",
    "for i in range(1,1001):\n",
    "    pv[i-1]=sum(pca_new.explained_variance_[0:i])/eigenvalue_sum\n",
    "x_axis=np.linspace(1,1000,1000)\n",
    "plt.plot(x_axis,pv)\n",
    "plt.xlabel('q')\n",
    "plt.ylabel('PV(q)')\n",
    "plt.title('Proportion of explianed variance for the first 1000 components')\n",
    "plt.show()\n",
    "## TO DO ENDS HERE ##"
   ]
  },
  {
   "cell_type": "markdown",
   "metadata": {},
   "source": [
    "## 2. Training with NMF\n",
    "\n",
    "### Part (a)\n",
    "Similarly to PCA in Part 1, use the NMF implemented in Sci-Kit learn to obtain the low-dimensional projection of ${\\bf X}$ (i.e. get ${\\bf W}$ and ${\\bf Z}$) for when $q = 5$.  Read the documentation [here](https://scikit-learn.org/stable/modules/generated/sklearn.decomposition.NMF.html) carefully.  In particular, make sure you are computing the correct ${\\bf W}$ and ${\\bf Z}$."
   ]
  },
  {
   "cell_type": "code",
   "execution_count": 19,
   "metadata": {},
   "outputs": [
    {
     "name": "stdout",
     "output_type": "stream",
     "text": [
      "W has shape  (1771, 5)\n",
      "Z has shape  (5, 2369)\n"
     ]
    }
   ],
   "source": [
    "## TO DO STARTS HERE ##\n",
    "nmf=NMF(n_components=5)\n",
    "Z=nmf.fit_transform(X_t).T\n",
    "W=nmf.components_.T\n",
    "\n",
    "\n",
    "## TO DO ENDS HERE ##\n",
    "\n",
    "print(\"W has shape \", W.shape)\n",
    "print(\"Z has shape \", Z.shape)"
   ]
  },
  {
   "cell_type": "markdown",
   "metadata": {},
   "source": [
    "### Part (b)\n",
    "\n",
    "Define the reconstruction error\n",
    "$$\n",
    "R(q) := \\frac{1}{2}\\|{\\bf X} - {\\bf WZ}\\|_F^2\n",
    "$$\n",
    "where\n",
    "$$\n",
    "\\|M\\|_F^2 = \\sum_{i = 1}^m \\sum_{j = 1}^k M_{ij}^2\n",
    "$$\n",
    "is the Frobenius norm of $M \\in \\mathbb{R}^{m \\times k}$.  Make a plot of the reconstuction error $R(q)$ versus $q$ for $q = 5, 10, 15, \\ldots, 50$.  Make sure the plot is clear with labeled axes and an appropriate title.  For this you can just use the `reconstruction_err_` attribute provided in Sci-kit learn."
   ]
  },
  {
   "cell_type": "code",
   "execution_count": 21,
   "metadata": {},
   "outputs": [
    {
     "data": {
      "image/png": "[encoded data removed]",
      "text/plain": [
       "<Figure size 432x288 with 1 Axes>"
      ]
     },
     "metadata": {
      "needs_background": "light"
     },
     "output_type": "display_data"
    }
   ],
   "source": [
    "## TO DO STARTS HERE ##\n",
    "rec_err=pv=np.ndarray(shape=(10,))\n",
    "x_axis=np.linspace(5,50,10)\n",
    "for i in range(0,10):\n",
    "    new_model=NMF(n_components=int(x_axis[i]))\n",
    "    new_model.fit(X_t)\n",
    "    rec_err[i]=new_model.reconstruction_err_\n",
    "plt.plot(x_axis,rec_err)\n",
    "plt.xlabel('q')\n",
    "plt.ylabel('R(q)')\n",
    "plt.title('Reconstruction error')\n",
    "plt.show()\n",
    "\n",
    "## TO DO ENDS HERE ##"
   ]
  },
  {
   "cell_type": "markdown",
   "metadata": {},
   "source": [
    "## 3.  Interpreting the principal components\n",
    "\n",
    "Consider the dataset\n",
    "$$\n",
    "{\\bf X} = [{\\bf x}_1; {\\bf x}_2; {\\bf x}_3] = \\begin{bmatrix}\n",
    "1 & 2 & 3\\\\\n",
    "1 & 2 & 3\n",
    "\\end{bmatrix}\n",
    "$$\n",
    "Although this data is 2-dimensional, it actually lives on the 1 dimensional line $x_1 = x_2$.  Without doing any computation, answer the following with short explanations:\n",
    "\n",
    "1.  What is the first principal component (i.e. first eigenvector)?  \n",
    "\n",
    "2.  What is the second principal component?\n",
    "\n",
    "3.  What is the proportion of variance explained by only the first principal component?\n",
    "\n",
    "4.  What are the matrices ${\\bf W}, {\\bf Z}$ when $q = 1$?  Normalize the columns of ${\\bf W}$ to have unit norm."
   ]
  },
  {
   "cell_type": "markdown",
   "metadata": {},
   "source": [
    "**Answer goes here**\n",
    "\n",
    "1. $(1,1)^T$ , since x1, x2 and x3 are all on this line\n",
    "2. $(1,-1)^T$, this and $(1,1)^T$ form a basis.\n",
    "3. 100% since the other eigenvalue is 0.\n",
    "4. $W= (sqrt(.5),sqrt(.5))^T$ and $Z= (sqrt(2),2*sqrt(2),3*sqrt(2))$"
   ]
  },
  {
   "cell_type": "markdown",
   "metadata": {},
   "source": [
    "## 4.  Reconstruction error and low-dimensional data\n",
    "\n",
    "More generally suppose that we can write ${\\bf X} = {\\bf uv}^T$ for some vectors ${\\bf u} \\in \\mathbb{R}^{d},{\\bf v} \\in \\mathbb{R}^N$.  What is the first principal component (normalized to have unit norm)? What is the minimum dimension $q$ we need to have zero reconstruction error?  "
   ]
  },
  {
   "cell_type": "markdown",
   "metadata": {},
   "source": [
    "**Answer goes here**\n",
    "\n",
    "Since $X = u v^T$, $XX^T =uv^T vu^T=u(v^Tv)u^T=c*uu^T$, where c is a scalar. Therefore the first principal component is simply u normalized. Since the data is generated with a single vector u (X has rank 1), q=1 is enough."
   ]
  },
  {
   "cell_type": "code",
   "execution_count": null,
   "metadata": {},
   "outputs": [],
   "source": []
  }
 ],
 "metadata": {
  "kernelspec": {
   "display_name": "Python 3",
   "language": "python",
   "name": "python3"
  },
  "language_info": {
   "codemirror_mode": {
    "name": "ipython",
    "version": 3
   },
   "file_extension": ".py",
   "mimetype": "text/x-python",
   "name": "python",
   "nbconvert_exporter": "python",
   "pygments_lexer": "ipython3",
   "version": "3.7.3"
  }
 },
 "nbformat": 4,
 "nbformat_minor": 2
}
