{
 "cells": [
  {
   "cell_type": "markdown",
   "metadata": {},
   "source": [
    "#### CSCI-UA.0473-​001 Introduction to Machine Learning\n",
    "\n",
    "# Homework 1\n",
    "\n",
    "\n",
    "### Name: Bozhou Yan\n",
    "\n",
    "\n",
    "### Due: Oct. 2, 2019\n",
    "\n",
    "\n",
    "## Goal:  The goal of this homework is to practice implementing a logistic regression model and gradient descent as well as to explore some theoretical concepts."
   ]
  },
  {
   "cell_type": "markdown",
   "metadata": {},
   "source": [
    "You will need the following packages below to do the homework.  Please DO NOT import any other packages."
   ]
  },
  {
   "cell_type": "code",
   "execution_count": 2,
   "metadata": {},
   "outputs": [],
   "source": [
    "from autograd import grad\n",
    "import autograd.numpy as np\n",
    "import matplotlib.pyplot as plt\n",
    "from sklearn.datasets.samples_generator import make_blobs"
   ]
  },
  {
   "cell_type": "markdown",
   "metadata": {},
   "source": [
    "## Problem 1: Gradient Descent (40 pts total)\n",
    "\n",
    "In this problem we will study gradient descent for optimization."
   ]
  },
  {
   "cell_type": "markdown",
   "metadata": {},
   "source": [
    "### Part (a) (10pts) Implementing gradient descent with a fixed learning rate\n",
    "\n",
    "Using autograd, implement gradient descent with a fixed learning rate for a general function."
   ]
  },
  {
   "cell_type": "code",
   "execution_count": 3,
   "metadata": {},
   "outputs": [],
   "source": [
    "\"\"\"\n",
    "Input:\n",
    "    fun : function\n",
    "    x0  : initial point\n",
    "    lr  : fixed learning rate\n",
    "    iterations : number of iterations to perform\n",
    "    \n",
    "Return:\n",
    "    x   : minimizer to fun\n",
    "\"\"\"\n",
    "def gradient_descent_fixed(fun, x0, lr, iterations):\n",
    "   \n",
    "    x=np.asarray(x0).astype('float64')\n",
    "    for i in range(0,iterations):\n",
    "        grad_fun=grad(fun)\n",
    "        #print(\"iteration=\",i,\"current x \",x,\"current grad: \",grad_fun(x))\n",
    "        x=x-(lr*grad_fun(x))\n",
    "        \n",
    "    return x\n"
   ]
  },
  {
   "cell_type": "markdown",
   "metadata": {},
   "source": [
    "### Part (b) (10 pts) Using a variable learning rate\n",
    "\n",
    "Sometimes it is necessary to decrease our learning rate as we iterate to help gradient descent converge.  Implement gradient descent below where the learning rate at iteration $i$ is given by\n",
    "$$\n",
    "\\mathrm{lr}_i = \\frac{\\mathrm{lr}_0}{i+1}.\n",
    "$$"
   ]
  },
  {
   "cell_type": "code",
   "execution_count": 4,
   "metadata": {},
   "outputs": [],
   "source": [
    "\"\"\"\n",
    "Input:\n",
    "    fun : function\n",
    "    x0  : initial point\n",
    "    lr  : initial learning rate\n",
    "    iterations : number of iterations to perform\n",
    "    \n",
    "Return:\n",
    "    x   : minimizer to fun\n",
    "\"\"\"\n",
    "def gradient_descent_variable(fun, x0, lr, iterations): \n",
    "    grad_fun=grad(fun)\n",
    "    x=np.asarray(x0).astype('float64')\n",
    "    lr_variable=lr\n",
    "    for i in range(0,iterations):\n",
    "        lr_variable=lr/(i+1)\n",
    "        x=x-lr_variable*grad_fun(x)\n",
    "    return x"
   ]
  },
  {
   "cell_type": "markdown",
   "metadata": {},
   "source": [
    "### Part (c) (10 pts)  Choosing the learning rate\n",
    "\n",
    "Let $\\alpha$ denote the learning rate and consider the function $f(x) = \\frac{1}{2}x^2$.  The gradient descent update rule at iteration $n+1$ is given by\n",
    "$$\n",
    "x_{n+1} = x_n - \\alpha f'(x_n)\n",
    "$$\n",
    "Is there a critical value $\\alpha_0$ so that if $\\alpha \\ge \\alpha_0$ then gradient descent will not converge for $f(x)$?  If so what is it and explain why?"
   ]
  },
  {
   "cell_type": "markdown",
   "metadata": {},
   "source": [
    "Answer goes here: Yes, $ \\alpha_0 =2 $ would be such a critical value. Since $ f'(x)=x $ we know $x_{n+1}= (1-\\alpha)x_n $, if alpha is greater than 2 then $|x|$ will increase and never converge; if $\\alpha = 2$ then this update rule will only flip the sign of x and do nothing else."
   ]
  },
  {
   "cell_type": "markdown",
   "metadata": {},
   "source": [
    "### Part (d)  (10 pts) Feature scaling\n",
    "\n",
    "Oftentimes it is advantageous to rescale or normalize our features.  As a toy example suppose we want to predict a person's weight (in kgs.) based on their height.  We would like an algorithm that gives equally good predictions whether height is measured in centimeters or kilometers.  For a concrete example, consider the 2D optimization problems:\n",
    "$$\n",
    "\\mathrm{argmin}_{x\\in \\mathbb{R}^2}\\ x^T \\Sigma_i x, \\quad i = 1,2\n",
    "$$\n",
    "where\n",
    "$$\n",
    "\\Sigma_1 = \\begin{bmatrix}\n",
    "1 & 0\\\\\n",
    "0 & 1\n",
    "\\end{bmatrix}, \\quad \n",
    "\\Sigma_2 = \\begin{bmatrix}\n",
    "1 & 0\\\\\n",
    "0 & 100\n",
    "\\end{bmatrix}.\n",
    "$$\n",
    "Suppose our starting point is the same $x_0 = (1, 1)^T$ for both optimization problems.  For a fixed learning rate, will gradient descent perform better on problem $i=1$ or $i=2$?  Explain why."
   ]
  },
  {
   "cell_type": "markdown",
   "metadata": {},
   "source": [
    "Answer goes here: It will likely perform better on problem i=1 since in i=2 the second field of x will have a significantly higher impact on the gradient than the first field, thus resulting in the algorithm facing more trouble while tring to locate the minimum.\n"
   ]
  },
  {
   "cell_type": "markdown",
   "metadata": {},
   "source": [
    "## Problem 2:  Logistic Regression (60 pts total)\n",
    "\n",
    "In this problem you will implement all of the steps that are taken care of whenever the \"fit\" function from sci-kit is called."
   ]
  },
  {
   "cell_type": "markdown",
   "metadata": {},
   "source": [
    "### Part (a) (15 pts) Logisitc Unit\n",
    "\n",
    "For binary classification $y \\in \\{0,1\\}$ we will model the posterior probability $p(y = 1 | x)$ with the logistic unit \n",
    "$$\n",
    "h(x; w) = \\frac{1}{1 + \\exp(-w^Tx)}\n",
    "$$\n",
    "We will use the convention that $x_0 = 1$.  Implement this function below using the skeletal outline as a guide.  Suppose we use a discriminant function $f(x)$ which assigns the label $y = 1$ if $p(y = 1 | x) \\ge 0.5$ and $0$ otherwise.  In other words, with a discriminant function we do not need the posterior probabilities but rather skip straight to the classification.  \n",
    "\n",
    "\n",
    "Give a geometric interpretation of our classifier once the parameters $w$ have been learned.  What does the angle between $w$ and $x$ tell us about the predicted class value?  For which angles do we predict $y=1$?"
   ]
  },
  {
   "cell_type": "code",
   "execution_count": 5,
   "metadata": {},
   "outputs": [],
   "source": [
    "\"\"\"\n",
    "Input:\n",
    "    w: weight vector\n",
    "    X: data\n",
    "\n",
    "Return:\n",
    "    logits : h(x;w)\n",
    "\"\"\"\n",
    "def logistic_unit(X, w):\n",
    "    logits=np.reciprocal(1+np.exp(-np.dot(X,w)))\n",
    "    return logits\n",
    "\n"
   ]
  },
  {
   "cell_type": "markdown",
   "metadata": {},
   "source": [
    "Answer goes here: If the angle between W and x is large, then $ -w^T x$ becomes large as well, then the denominator of our logit also gets large which makes the probability small, and vice versa. For angles less than 90 degrees, $ exp(- w^T x) <1 $ therefore $h(x;w)>0.5$ and we predict y=1. \n",
    "\n"
   ]
  },
  {
   "cell_type": "markdown",
   "metadata": {},
   "source": [
    "### Part (b) (10 pts) Deriving the loss function\n",
    "\n",
    "We have implicitly made the assumption that $y|x \\sim \\mathrm{Bernoulli}(h(x;w))$.  If we have an iid dataset $\\{(x_i,y_i)\\}_{i=1}^N$, then we can write the data likelihood as\n",
    "$$\n",
    "p(\\vec{y}| X, w) = \\prod_{i=1}^N p(y_i | x_i, w)\n",
    "$$\n",
    "We can learn the parameter $w$ by maximizing this probability (i.e. we find the MLE) or equivalently minimizing $J(w) = -\\log p(\\vec{y} | X, w)$.  Derive the loss function $J(w)$ step-by-step and implement it using the skeletal outline below."
   ]
  },
  {
   "cell_type": "markdown",
   "metadata": {},
   "source": [
    "Derivation goes here:\n",
    "    "
   ]
  },
  {
   "cell_type": "code",
   "execution_count": 6,
   "metadata": {},
   "outputs": [],
   "source": [
    "\"\"\"\n",
    "Input:\n",
    "    w : weight vector\n",
    "    X : dataset features\n",
    "    y : dataset targets\n",
    "\n",
    "Return:\n",
    "    J : loss of w given X,y\n",
    "\"\"\"\n",
    "def loss(w, X, y):\n",
    "    \n",
    "    cumulated_log_likelihood=0\n",
    "    \n",
    "    for i in range(0,len(X)):\n",
    "        current_logit=logistic_unit(X[i],w)\n",
    "      \n",
    "        #print(cumulated_likelihood,\"**\",current_logit)\n",
    "        \n",
    "        cumulated_log_likelihood=cumulated_log_likelihood-np.log(np.power(current_logit,y[i])*np.power((1-current_logit),(1-y[i])))\n",
    "    \n",
    "    #print(\"cl\",cumulated_likelihood)      \n",
    "    J=cumulated_log_likelihood\n",
    "    \n",
    "    return J\n"
   ]
  },
  {
   "cell_type": "markdown",
   "metadata": {},
   "source": [
    "### Part (c) (5 pts) Splitting the data for training and testing\n",
    "\n",
    "Now we'll actually learn a logistic regression model for some synthetic data.\n",
    "\n",
    "First split the dataset into a training, validation, and test set.  Use a 40/40/20 split (roughly 40/40/20 is fine)."
   ]
  },
  {
   "cell_type": "code",
   "execution_count": 7,
   "metadata": {},
   "outputs": [],
   "source": [
    "# We first generate some fake data.\n",
    "X, y = make_blobs(n_samples = 10000, centers = 2, n_features =20, cluster_std =20)\n",
    "\n",
    "# We'll also augment the data so that x_0 = 1 for the intercept term.\n",
    "X = np.append(np.ones((len(X), 1)), X, axis = 1)\n",
    "\n",
    "index=[]\n",
    "\n",
    "for i in range(0,10000):\n",
    "    index.append(i)\n",
    "    \n",
    "np.random.shuffle(index)\n",
    "\n",
    "\"\"\"Randomize the data cuz why not\"\"\"\n",
    "\n",
    "shuffled_X=[]\n",
    "shuffled_y=[]\n",
    "\n",
    "for i in range(0,10000):\n",
    "    shuffled_X.append(X[index[i]])\n",
    "    shuffled_y.append(y[index[i]])\n",
    "    \n",
    "\n",
    "\n",
    "X_train=shuffled_X[0:4000]\n",
    "y_train=shuffled_y[0:4000]\n",
    "\n",
    "X_val=shuffled_X[4000:8000]\n",
    "y_val=shuffled_y[4000:8000]\n",
    "\n",
    "X_test=shuffled_X[8000:10000]\n",
    "y_test=shuffled_y[8000:10000]\n"
   ]
  },
  {
   "cell_type": "markdown",
   "metadata": {},
   "source": [
    "### Part (d) (20pts) \n",
    "\n",
    "Now use your gradient descent function to learn the parameters $w$ using 1000 iterations.  You may choose the learning rate and initial parameters $w_0$ for this problem.  Compare both the fixed learning rate and variable learning rate gradient descents side by side (i.e. 2 subplots).\n",
    "\n",
    "For each method, plot the loss of both the training set and the validation set.  Make sure your plots are labeled properly with $x$ and $y$ axis labels, a legend, title, and different colors to distinguish the two curves on each subplot."
   ]
  },
  {
   "cell_type": "code",
   "execution_count": 8,
   "metadata": {},
   "outputs": [
    {
     "name": "stdout",
     "output_type": "stream",
     "text": [
      "done with fixed\n",
      "done with variable\n"
     ]
    }
   ],
   "source": [
    "w_init=np.asarray(np.append([0],np.ones(20)))\n",
    "w_init=np.multiply(w_init,0.01)\n",
    "\n",
    "ite=1000\n",
    "\n",
    "def loss_wrt_W(w):\n",
    "    return loss(w,X_train,y_train)\n",
    "\n",
    "def monitored_descent_fixed(loss_fun,x0,lr,iterations,loss_storage):\n",
    "    x=np.asarray(x0).astype('float64')\n",
    "\n",
    "    for i in range(0,iterations):\n",
    "                                                                 \n",
    "        #keeping track of the losses for X_train and X_val\n",
    "        #if (i<=24) or (i % 10==0 and i<=100) or (i % 100 == 0):      \n",
    "        t_loss=loss(x,X_train,y_train)\n",
    "        v_loss=loss(x,X_val,y_val)\n",
    "        loss_storage.append([t_loss,v_loss,int(i)])       \n",
    "        \n",
    "        x=gradient_descent_fixed(loss_fun, x, lr, 1)       \n",
    "    return x\n",
    "\n",
    "def monitored_descent_variable(loss_fun,x0,lr,iterations,loss_storage):\n",
    "    x=np.asarray(x0).astype('float64')\n",
    "\n",
    "    for i in range(0,iterations):\n",
    "\n",
    "        #if (i<=24) or (i % 10==0 and i<=100) or (i % 100 == 0):\n",
    "        t_loss=loss(x,X_train,y_train)\n",
    "        v_loss=loss(x,X_val,y_val)\n",
    "        loss_storage.append([t_loss,v_loss,int(i)]) \n",
    "        \n",
    "        \n",
    "        x=gradient_descent_variable(loss_fun, x, lr, 1)       \n",
    "    return x\n",
    "\n",
    "loss_tracker_fixed=[]\n",
    "w_fixed=monitored_descent_fixed(loss_wrt_W, w_init, 0.000001, ite,loss_tracker_fixed)\n",
    "#np.savetxt(\"weight by fixed lr.txt\",w_fixed)\n",
    "#np.savetxt(\"tracked loss by fixed lr.txt\",loss_tracker_fixed)\n",
    "print(\"done with fixed\") \n",
    "\n",
    "loss_tracker_variable=[]\n",
    "w_variable=monitored_descent_variable(loss_wrt_W, w_init, 0.000005, ite,loss_tracker_variable)\n",
    "#np.savetxt(\"weight by variable lr.txt\",w_variable)\n",
    "#np.savetxt(\"tracked loss by variable lr.txt\",loss_tracker_variable)\n",
    "print(\"done with variable\")"
   ]
  },
  {
   "cell_type": "code",
   "execution_count": 9,
   "metadata": {},
   "outputs": [
    {
     "data": {
      "image/png": "[encoded data removed]",
      "text/plain": [
       "<Figure size 720x360 with 2 Axes>"
      ]
     },
     "metadata": {
      "needs_background": "light"
     },
     "output_type": "display_data"
    }
   ],
   "source": [
    "fig = plt.figure(figsize = (10, 5))\n",
    "\n",
    "x = []\n",
    "\n",
    "for i in range(0,25):\n",
    "       #if (i<=24) or (i % 10==0 and i<=100) or (i % 100 == 0):\n",
    "         x.append(i)\n",
    "            \n",
    "\"\"\"I am only going to plot the first 25 iterations since the loss tends to converge wayyyyyy before our model is done training.\"\"\"\n",
    "\n",
    "ax1 = plt.subplot(121)\n",
    "y1 = np.asarray([loss_tracker_fixed[i][0] for i in range(len(x))])\n",
    "y2 = np.asarray([loss_tracker_fixed[i][1] for i in range(len(x))])\n",
    "ax1.plot(x, y1, 'b',label='Training set')\n",
    "ax1.plot(x,y2,'r',label='Validation set')\n",
    "ax1.set_xlabel(r'iteration')\n",
    "ax1.set_ylabel(r'loss')\n",
    "ax1.set_title(r'fixed lr')\n",
    "plt.legend();\n",
    "\n",
    "ax2 = plt.subplot(122)\n",
    "z1 = np.asarray([loss_tracker_variable[i][0] for i in range(len(x))])\n",
    "z2 = np.asarray([loss_tracker_variable[i][1] for i in range(len(x))])\n",
    "ax2.plot(x, z1, 'b',label='Training set')\n",
    "ax2.plot(x,z2,'r',label='Validation set')\n",
    "ax2.set_xlabel(r'iteration')\n",
    "ax2.set_ylabel(r'loss')\n",
    "ax2.set_title(r'variable lr')\n",
    "\n",
    "plt.legend();\n",
    "plt.tight_layout();"
   ]
  },
  {
   "cell_type": "markdown",
   "metadata": {},
   "source": [
    "### Part (e) (10 pts) Evaluating the model on the test set\n",
    "\n",
    "Finally, we have trained our models and are ready to evaluate them on the test set.  For binary classification one way to check our classifier is to make a confusion matrix of our predictions.\n",
    "$$\n",
    "C = \\begin{bmatrix}\n",
    "\\text{Predict 0, Actual 0} & \\text{Predict 0, Actual 1}\\\\\n",
    "\\text{Predict 1, Actual 0} & \\text{Predict 1, Actual 1}\n",
    "\\end{bmatrix}\n",
    "$$\n",
    "The diagonal elements are the number of samples that are correctly classified.\n",
    "\n",
    "Use your trained models to classify samples in the test set according to whether $h(x_i; w) \\ge 0.5$ or not and print the confusion matrices.  Also print the accuracy rate which is just the percentage of correctly classified examples for both models."
   ]
  },
  {
   "cell_type": "code",
   "execution_count": 10,
   "metadata": {},
   "outputs": [
    {
     "name": "stdout",
     "output_type": "stream",
     "text": [
      "With fixed learning rate, C:  [761, 205, 217, 817]  accuracy rate=  78.9 %\n",
      "With variable learning rate, C:  [762, 207, 216, 815]  accuracy rate=  78.85 %\n"
     ]
    }
   ],
   "source": [
    "C_fixed=[0,0,0,0]\n",
    "C_variable=[0,0,0,0]\n",
    "p=1\n",
    "q=1\n",
    "for i in range(0,len(X_test)):\n",
    "    \n",
    "    p=logistic_unit(w_fixed,X_test[i])\n",
    "    \n",
    "    if p>=0.5:\n",
    "        if y_test[i]==1:\n",
    "            C_fixed[3]+=1\n",
    "        elif y_test[i]==0:\n",
    "            C_fixed[2]+=1\n",
    "    elif p<0.5:\n",
    "        if y_test[i]==1:\n",
    "            C_fixed[1]+=1\n",
    "        elif y_test[i]==0:\n",
    "            C_fixed[0]+=1\n",
    "    \n",
    "    q=logistic_unit(w_variable,X_test[i])\n",
    "    if q>=0.5:\n",
    "        if y_test[i]==1:\n",
    "            C_variable[3]+=1\n",
    "        elif y_test[i]==0:\n",
    "            C_variable[2]+=1\n",
    "    elif q<0.5:\n",
    "        if y_test[i]==1:\n",
    "            C_variable[1]+=1\n",
    "        elif y_test[i]==0:\n",
    "            C_variable[0]+=1\n",
    "            \n",
    "acc_fixed=100*(C_fixed[0]+C_fixed[3])/((C_fixed[0]+C_fixed[1]+C_fixed[2]+C_fixed[3]))\n",
    "acc_variable=100*(C_variable[0]+C_variable[3])/((C_variable[0]+C_variable[1]+C_variable[2]+C_variable[3]))\n",
    "print(\"With fixed learning rate, C: \",C_fixed,\" accuracy rate= \",acc_fixed,\"%\")\n",
    "print(\"With variable learning rate, C: \",C_variable,\" accuracy rate= \",acc_variable,\"%\")"
   ]
  },
  {
   "cell_type": "markdown",
   "metadata": {},
   "source": []
  },
  {
   "cell_type": "code",
   "execution_count": null,
   "metadata": {},
   "outputs": [],
   "source": []
  }
 ],
 "metadata": {
  "kernelspec": {
   "display_name": "Python 3",
   "language": "python",
   "name": "python3"
  },
  "language_info": {
   "codemirror_mode": {
    "name": "ipython",
    "version": 3
   },
   "file_extension": ".py",
   "mimetype": "text/x-python",
   "name": "python",
   "nbconvert_exporter": "python",
   "pygments_lexer": "ipython3",
   "version": "3.7.3"
  }
 },
 "nbformat": 4,
 "nbformat_minor": 2
}
