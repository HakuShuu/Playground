{
 "cells": [
  {
   "cell_type": "markdown",
   "metadata": {},
   "source": [
    "#### CSCI-UA.0473-​001 Introduction to Machine Learning\n",
    "\n",
    "# Homework 4\n",
    "\n",
    "\n",
    "### Name: Bozhou Yan\n",
    "\n",
    "\n",
    "### Due: Nov. 18, 2019\n",
    "\n",
    "\n",
    "## Goal:  The goal of this homework is to practice implementing Gaussian Discriminant generative model as well as to explore connections between Bayesian inference and regularization in linear regression."
   ]
  },
  {
   "cell_type": "code",
   "execution_count": 1,
   "metadata": {},
   "outputs": [],
   "source": [
    "from sklearn import datasets\n",
    "import numpy as np\n",
    "import matplotlib.pyplot as plt\n",
    "from scipy.stats import multivariate_normal as mvn"
   ]
  },
  {
   "cell_type": "markdown",
   "metadata": {},
   "source": [
    "## 1. Gaussian Discriminant Analysis\n",
    "\n",
    "Here we return to the breast cancer dataset. We will use Gaussian discriminant analysis to classify tumors as either malignant or benign.  \n",
    "\n",
    "### Part (a)\n",
    "Implement the 3 methods in the following class.  You may wish to refer to the following Scipy documentation for [multivariate_normal](https://docs.scipy.org/doc/scipy-0.14.0/reference/generated/scipy.stats.multivariate_normal.html)."
   ]
  },
  {
   "cell_type": "code",
   "execution_count": 2,
   "metadata": {},
   "outputs": [],
   "source": [
    "class GDA:\n",
    "    \n",
    "    \"\"\"\n",
    "    Create an instance of a Gaussian discriminant model.\n",
    "    \"\"\"\n",
    "    def __init__(self, train_feat, train_targ):\n",
    "        assert train_feat.shape[0] == train_targ.shape[0]\n",
    "        self.N_train = train_feat.shape[0] # The number of training points.\n",
    "        self.d = train_feat.shape[1] # The dimension of the data.\n",
    "        self.train_feat = train_feat # Training features.\n",
    "        self.train_targ = train_targ # Training labels (either 0 or 1).\n",
    "    \n",
    "    \"\"\"\n",
    "    Learn the parameters for the mean and covariance of the two classes.  Sets the parameters of the Gaussian\n",
    "    Discriminant model.\n",
    "    \n",
    "    phi - float between 0 and 1.\n",
    "    m0 - numpy array of shape (d, ) for d >= 1, mean of data from class 0\n",
    "    m1 - numpy array of shape (d, ) for d >= 1, mean of data from class 1\n",
    "    C - numpy array of shape (d, d) for d >= 1, covariance of data\n",
    "    \n",
    "    Output:\n",
    "    None\n",
    "    \"\"\"\n",
    "    def fit(self):\n",
    "        X = self.train_feat\n",
    "        y = self.train_targ\n",
    "        N = self.N_train\n",
    "        d = self.d\n",
    "        \n",
    "        ## TO DO STARTS HERE ##\n",
    "        \n",
    "        global phi,m0,m1,C\n",
    "        \n",
    "        n1=0 ## number of data points in class 1##\n",
    "       \n",
    "        for i in range(0,N):\n",
    "            if y[i]==1:\n",
    "                n1+=1\n",
    "        \n",
    "        n0=N-n1\n",
    "        phi=float(n1/N)\n",
    "        \n",
    "        m0=np.zeros(shape=(d,))\n",
    "        m1=np.zeros(shape=(d,))\n",
    "        \n",
    "        for i in range(0,N):\n",
    "            if y[i]==0:\n",
    "                m0+=X[i]/n0\n",
    "            else:\n",
    "                m1+=X[i]/n1\n",
    "                    \n",
    "        C=np.zeros(shape=(d,d))\n",
    "        for i in range(0,N):\n",
    "            v=np.ndarray(shape=(d,))\n",
    "            m=np.ndarray(shape=(d,d))\n",
    "            \n",
    "            if y[i]==0:\n",
    "                v=X[i]-m0\n",
    "            else:\n",
    "                v=X[i]-m1\n",
    "            \n",
    "            m=np.outer(v,v)\n",
    "            m=m/N\n",
    "            C+=m\n",
    "            \n",
    "        \n",
    "        ## TO DO ENDS HERE ##\n",
    "    \n",
    "    \"\"\"\n",
    "    Return the prediction on the test data.\n",
    "    \n",
    "    Input:\n",
    "    test_data - numpy array of shape (N_test, d) corresponding to the test data.\n",
    "    \n",
    "    Output:\n",
    "    y_pred - numpy array of shape (N_test, ) whose entries are either 0 or 1 corresponding to the predicted class.\n",
    "    \"\"\"\n",
    "    def predict(self, test_data):\n",
    "       \n",
    "        ## TO DO STARTS HERE ##     \n",
    "        assert test_data.shape[1]==self.d\n",
    "        global d0,d1\n",
    "        d0=mvn(m0,C)\n",
    "        d1=mvn(m1,C)\n",
    "        \n",
    "        N_test=test_data.shape[0]\n",
    "        y_pred=np.ndarray(shape=(N_test,))\n",
    "        \n",
    "        for i in range(0,N_test):\n",
    "                if d0.pdf(test_data[i])*(1-phi) <= d1.pdf(test_data[i])*phi :\n",
    "                    y_pred[i]=int(1)\n",
    "                else:\n",
    "                    y_pred[i]=int(0)\n",
    "        \n",
    "        ## TO DO ENDS HERE ##\n",
    "        \n",
    "        return y_pred\n",
    "        \n",
    "    \"\"\"\n",
    "    Draw samples from the conditional distribution p(x|y = label).\n",
    "    \n",
    "    Input:\n",
    "    label - int, either 0 or 1 corresponding to the class to sample from.\n",
    "    n_samples - int, the number of samples to draw with class label.\n",
    "    \n",
    "    Output:\n",
    "    x_sampled - numpy array of shape (n_samples, d), samples from the conditional distribution.\n",
    "    \"\"\"\n",
    "    def sample(self, label, n_samples):\n",
    "        \n",
    "        ## TO DO STARTS HERE ##\n",
    "        x_sampled=np.ndarray(shape=(n_samples,self.d))\n",
    "        \n",
    "        for i in range(0,n_samples):\n",
    "                if label==0:\n",
    "                    x_sampled[i]=d0.rvs()\n",
    "                else:\n",
    "                    x_sampled[i]=d1.rvs()\n",
    "        ## TO DO ENDS HERE ##\n",
    "        \n",
    "        return x_sampled"
   ]
  },
  {
   "cell_type": "markdown",
   "metadata": {},
   "source": [
    "### Part (b)\n",
    "\n",
    "Fit your GDA model to the cancer training dataset, evaluate it on the test set, and report the accuracy.  You should achieve an accuracy $\\sim 85 \\%$."
   ]
  },
  {
   "cell_type": "code",
   "execution_count": 3,
   "metadata": {},
   "outputs": [],
   "source": [
    "# Loading in the data.\n",
    "cancer_data = datasets.load_breast_cancer()\n",
    "X = cancer_data.data\n",
    "y = cancer_data.target\n",
    "\n",
    "# Splitting the data into a training and test set.\n",
    "N = X.shape[0]\n",
    "split_idx = int(0.7 * N)\n",
    "X_train = X[:split_idx, :2]\n",
    "X_test = X[split_idx:, :2]\n",
    "y_train = y[:split_idx]\n",
    "y_test = y[split_idx:]"
   ]
  },
  {
   "cell_type": "code",
   "execution_count": 6,
   "metadata": {},
   "outputs": [
    {
     "name": "stdout",
     "output_type": "stream",
     "text": [
      "Accuracy = 86.5%\n"
     ]
    }
   ],
   "source": [
    "## TO DO STARTS HERE ##\n",
    "cancer_GDA=GDA(X_train,y_train)\n",
    "cancer_GDA.fit()\n",
    "prediction=cancer_GDA.predict(X_test)\n",
    "\n",
    "hit=0\n",
    "for i in range(0,y_test.shape[0]):\n",
    "    if prediction[i]==y_test[i]:\n",
    "        hit+=1\n",
    "        \n",
    "accuracy=float(hit/y_test.shape[0])\n",
    "## TO DO ENDS HERE ##\n",
    "\n",
    "print(\"Accuracy = {:0.1f}%\".format(100 * accuracy))"
   ]
  },
  {
   "cell_type": "markdown",
   "metadata": {},
   "source": [
    "### Part (c)\n",
    "\n",
    "One of the big advantages of generative models is that they can be used to create synthetic data.  This synthetic data can be used for training a classifier.  In particular, we can now generate balanced datasets.\n",
    "\n",
    "Use your trained model to generate a synthetic dataset with exactly 50 samples from each class (100 total).  Then create a scatter plot of the results.  Be sure to label the data points according to which class they are in.  You should use **cancer_data['target_names']** to get the list of the names of the two targets rather than refering to them as class 0 and class 1.  For more information about the cancer dataset you can look at **cancer_data.keys()**, although this is not required."
   ]
  },
  {
   "cell_type": "code",
   "execution_count": 5,
   "metadata": {},
   "outputs": [
    {
     "data": {
      "image/png": "[encoded data removed]",
      "text/plain": [
       "<Figure size 432x288 with 1 Axes>"
      ]
     },
     "metadata": {
      "needs_background": "light"
     },
     "output_type": "display_data"
    }
   ],
   "source": [
    "# Generate and plot the new fake dataset, which is balanced with 50 data points from each class (100 total).\n",
    "\n",
    "## TO DO STARTS HERE ##\n",
    "\n",
    "fake_class0=cancer_GDA.sample(0,50)\n",
    "fake_class1=cancer_GDA.sample(1,50)\n",
    "\n",
    "x0=np.reshape(fake_class0,(100,))[0::2]\n",
    "y0=np.reshape(fake_class0,(100,))[1::2]\n",
    "x1=np.reshape(fake_class1,(100,))[0::2]\n",
    "y1=np.reshape(fake_class1,(100,))[1::2]\n",
    "\n",
    "plt.scatter(x0,y0,c='r',label=cancer_data['target_names'][0])\n",
    "plt.scatter(x1,y1,c='g',label=cancer_data['target_names'][1])\n",
    "\n",
    "## TO DO ENDS HERE ##\n",
    "\n",
    "plt.xlabel(cancer_data['feature_names'][0])\n",
    "plt.ylabel(cancer_data['feature_names'][1])\n",
    "plt.title('GDA: Synthetic Breast Cancer Data')\n",
    "plt.legend()\n",
    "plt.show()"
   ]
  },
  {
   "cell_type": "markdown",
   "metadata": {},
   "source": [
    "## 2.  Bayesian Linear Regression"
   ]
  },
  {
   "cell_type": "markdown",
   "metadata": {},
   "source": [
    "### Part (a)\n",
    "Consider the model\n",
    "$$\n",
    "y_i = w^Tx_i + \\epsilon_i\n",
    "$$\n",
    "where $\\epsilon_i \\sim N(0, \\sigma^2)$ are i.i.d.  Our goal is to infer the weight vector $w$ given $N$ data points $\\{(x_i, y_i)\\}_{i=1}^N$.\n",
    "Assume the prior distribution over $w$ is a multivariate Gaussian distribution $N(\\nu, \\Gamma)$.  \n",
    "\n",
    "\n",
    "Write down the posterior distribution (up to a normalizing constant) for $w$ given the $N$ training points."
   ]
  },
  {
   "cell_type": "markdown",
   "metadata": {},
   "source": [
    "**Answer goes here**\n",
    "\n",
    "Let C be the normalizing constant.\n",
    "From the lecture we know the likelihood also follows a Multivariate Normal distribution $ Y \\sim N(w^T X,\\sigma^2 I)$, together with the assumption that prior is also a multivariate Normal distribution $ N(v,\\Gamma)$ , we can derive the posterior distribution with the formula that computes the product of two MGD's, i.e.: $\\Sigma  = ((\\sigma^2 I)^{-1}+ \\Gamma ^{-1})^{-1} $ and $\\mu = C*(\\Sigma (\\sigma^2 I)^{-1}w^T X+ \\Sigma \\Gamma ^{-1} v ) $\n"
   ]
  },
  {
   "cell_type": "markdown",
   "metadata": {},
   "source": [
    "### Part (b)\n",
    "\n",
    "If we use only a single training point then we can obtain a posterior distribution $p_1(w | x_1,y_1)$.  Given a new training point we can use $p_1$ as a prior to obtain a new posterior $p_2$.  Repeat this for all the $N$ training points.  \n",
    "\n",
    "Will the result of updating sequentially be the same as updating the prior based on all $N$ training points at once?  Give a proof."
   ]
  },
  {
   "cell_type": "markdown",
   "metadata": {},
   "source": [
    "**Answer goes here** Yes. \n",
    "\n",
    "\n",
    "$p_1=p(y_1 | x_1,w)*p(w)$ , where $p(y_1 | x_1,w)$ is gaussian due to gaussian noice.\n",
    "\n",
    "$p_2 = p(y_2 | x_2,w) * p1$ and we can repeat this procedure until the last training point $x_N$, the resulting product will be $ p(w|X,y) = p(w) * \\Pi_{i=0,1..N} p(y_i | x_i, w) $, where every term is gaussian with the same variance $\\sigma ^2$. Therefore we will derive the same result as in part a.\n"
   ]
  },
  {
   "cell_type": "markdown",
   "metadata": {},
   "source": [
    "### Part (c)\n",
    "\n",
    "Recall that for linear regression we are minimizing a loss function\n",
    "$$\n",
    "L(w) = \\sum_{i=1}^N (w^T x_i - y_i)^2\n",
    "$$\n",
    "and that this corresponds to maximizing the log-likelihood $\\log p(y|X,w)$.  \n",
    "\n",
    "1.  Show that minimizing the regularized loss function\n",
    "$$\n",
    "L_{\\lambda}(w) = \\lambda \\|w\\|^2 + \\sum_{i=1}^N (w^T x_i - y_i)^2\n",
    "$$\n",
    "corresponds to finding the maximum (MAP estimator)\n",
    "$$\n",
    "w^* = \\underset{w}{\\mathrm{argmax}}\\ p(w | X,y)\n",
    "$$\n",
    "when the prior distribution for $w$ is an isotropic Gaussian (i.e. a Gaussian of the form $N(0, \\sigma^2 I)$, where $I$ is the identity matrix).  \n",
    "\n",
    "2.  What is the relation between $\\lambda$ and $\\sigma^2$?"
   ]
  },
  {
   "cell_type": "markdown",
   "metadata": {},
   "source": [
    "**Answer goes here**\n",
    "\n",
    "Since the we assume the prior distribution to be an isotropic Gaussian, we can see the likelihood distribution and prior distribution are conjugates. Therefore our a posterior distribution would also be Gaussian. Therefore the MAP estimator $ w^* = \\mu$ where $\\mu$ is the mean of that Gaussian distribution. And since the loss function calculates the variance (with a regularizing factor added to it), the minimum is acheived when w is taken to be the mean.\n"
   ]
  },
  {
   "cell_type": "markdown",
   "metadata": {},
   "source": [
    "### Part (d)\n",
    "\n",
    "Now you'll implement Bayesian linear regression to fit a high degree polynomial to some noisy data.  Assume that $x_0,\\ldots,x_{10}$ are equally spaced points on the interval $[0,1]$.  In other words, $x_i = i/10$ for $i=0,\\ldots,10$.  We wish to approximate some underlying function $f$ with prescibed values $f_i = f(x_i)$ by using a polynomial interpolation.  Recall that we can perfectly interpolate the points using a polynomial of degree $11$ or more.  However, if there is noise in our data this will give very poor results.  In particular, we assume that we instead observe\n",
    "$$\n",
    "y_i = f_i + \\epsilon_i\n",
    "$$\n",
    "where $\\epsilon_i$ are iid $N(0,\\gamma^2)$ random variables.  We can use a Bayesian approach to help fix this.  Here the parameter $\\theta \\in \\mathbb{R}^{11}$ will denote the coefficients of the polynomial.\n",
    "$$\n",
    "\\theta_0 + \\theta_1 x + \\cdots + \\theta_{10}x^{10} = (1,x,\\ldots,x^{10})^T \\theta\n",
    "$$\n",
    "Assume the prior distribution for $\\theta$ is an isotropic Gaussian of the form $N(0,\\sigma^2 I)$.\n",
    "\n",
    "Implement the two functions below which compute the MAP estimator for the parameters $\\theta$ and evaluates the corresponding polynomial.  Hint: It may be useful to consider the Vandermonde matrix $V \\in \\mathbb{R}^{11 \\times 11}$, whose entries are $V_{ij} = (x_i)^j$ for $0 \\le i,j, \\le 10$.  You may also want to use the Numpy linear algebra package (numpy.linalg)."
   ]
  },
  {
   "cell_type": "code",
   "execution_count": 7,
   "metadata": {},
   "outputs": [],
   "source": [
    "\"\"\"\n",
    "Input:\n",
    "y - numpy array of shape (11,) of the observed function values y_i = f_i + epsilon_i.\n",
    "gamma - positive float, standard deviation of observational noise\n",
    "sigma - positive float, standard deviation of the prior\n",
    "\n",
    "Output:\n",
    "theta - numpy array of shape (11,) of the fitted parameters\n",
    "\"\"\"\n",
    "def fit(y, gamma, sigma):\n",
    "    ## TO DO STARTS HERE ##\n",
    "    V=np.ndarray(shape=(11,11))\n",
    "    x=np.asarray([0,0.1,0.2,0.3,0.4,0.5,0.6,0.7,0.8,0.9,1])\n",
    "    for i in range(0,11):\n",
    "        for j in range(0,11):\n",
    "            V[i][j]=np.power(x[i],j)\n",
    "   \n",
    "    V_t=np.transpose(V)\n",
    "    \n",
    "    A=np.matmul(V_t,V)/(gamma**2)+ np.identity(11)/(sigma**2)\n",
    "    A_inv=np.linalg.inv(A)\n",
    "\n",
    "   ## theta=np.matmul(y,np.transpose(V))\n",
    "   ## theta=np.matmul(theta,A_inv)\n",
    "    theta=np.matmul(A_inv,V_t)\n",
    "    theta=np.matmul(theta,y)\n",
    "    theta=theta/(gamma**2)\n",
    "    ## TO DO ENDS HERE ##\n",
    "    return theta\n",
    "\n",
    "\"\"\"\n",
    "Evaluate the polynomial with coefficients theta at the points x.\n",
    "\n",
    "Input:\n",
    "x - numpy array of shape (N, ) for N >= 1, the points to evaluate the polynomial at.\n",
    "theta - numpy array of shape (11, ), the coefficients of the polynomial\n",
    "\n",
    "theta[0] + theta[1]*x + ... + theta[9]*x^9 + theta[10]*x^10\n",
    "\n",
    "Output:\n",
    "vals - numpy array of shape (N, ), the evaluation of the polynomial at the points x.\n",
    "\"\"\"\n",
    "def evaluate(x, theta):\n",
    "    vals = np.zeros(x.shape)\n",
    "    \n",
    "    ## TO DO STARTS HERE ##\n",
    "    N=x.shape[0]\n",
    "    \n",
    "    for i in range(0,N):\n",
    "        x_eval=np.zeros(shape=(11,))\n",
    "        for j in range(0,11):    \n",
    "            x_eval[j]=x[i]**j \n",
    "        \n",
    "        vals[i]=np.inner(x_eval,theta)\n",
    "    ## TO DO ENDS HERE ##\n",
    "    return vals"
   ]
  },
  {
   "cell_type": "markdown",
   "metadata": {},
   "source": [
    "### Part (e)\n",
    "\n",
    "Choose an appropriate choice of $\\sigma$ so that the fitted polynomial closely matches the true function $f(x) = x$.  There is not a unique answer to this problem."
   ]
  },
  {
   "cell_type": "code",
   "execution_count": 8,
   "metadata": {},
   "outputs": [
    {
     "data": {
      "image/png": "[encoded data removed]",
      "text/plain": [
       "<Figure size 432x288 with 1 Axes>"
      ]
     },
     "metadata": {
      "needs_background": "light"
     },
     "output_type": "display_data"
    }
   ],
   "source": [
    "## TO DO STARTS HERE ##\n",
    "# Choose a value of sigma.\n",
    "sigma = 1500  ## surprisingly this works well. Making Sigma this big means our prior is almost uniformly distributed.\n",
    "## TO DO ENDS HERE ##\n",
    "\n",
    "\n",
    "# Get the noisy observations and fit the polynomial.\n",
    "x = np.linspace(0, 1, 11)\n",
    "gamma = 0.25\n",
    "np.random.seed(1)\n",
    "y = x + gamma*np.random.randn(11)\n",
    "\n",
    "theta = fit(y, gamma = gamma, sigma = sigma)\n",
    "\n",
    "\n",
    "xx = np.linspace(0,1,1000)\n",
    "plt.plot(xx, evaluate(xx,theta), label = r'Approximation')\n",
    "plt.plot(xx, xx, 'k--', alpha = 0.7, label = r'$f(x)$')\n",
    "plt.xlabel(r'$x$')\n",
    "plt.ylabel(r'$f(x)$')\n",
    "plt.title('Regularized Approximation')\n",
    "plt.legend()\n",
    "plt.show()"
   ]
  },
  {
   "cell_type": "code",
   "execution_count": null,
   "metadata": {},
   "outputs": [],
   "source": []
  }
 ],
 "metadata": {
  "kernelspec": {
   "display_name": "Python 3",
   "language": "python",
   "name": "python3"
  },
  "language_info": {
   "codemirror_mode": {
    "name": "ipython",
    "version": 3
   },
   "file_extension": ".py",
   "mimetype": "text/x-python",
   "name": "python",
   "nbconvert_exporter": "python",
   "pygments_lexer": "ipython3",
   "version": "3.7.3"
  }
 },
 "nbformat": 4,
 "nbformat_minor": 2
}
